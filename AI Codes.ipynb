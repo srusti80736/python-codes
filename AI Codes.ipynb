{
 "cells": [
  {
   "cell_type": "code",
   "execution_count": 18,
   "id": "8e5a3c8a-b6c8-42fe-86fa-4d63ea6e8a41",
   "metadata": {},
   "outputs": [
    {
     "name": "stdout",
     "output_type": "stream",
     "text": [
      "Mean: 22.3\n",
      "Median: 21.0\n",
      "Mode: 15\n",
      "Variance: 36.61\n",
      "Standard Deviation: 6.050619802962338\n"
     ]
    }
   ],
   "source": [
    "import numpy as np\n",
    "import statistics as stats\n",
    "Data = [15, 21, 29, 21, 15, 24, 32, 21, 15, 30]\n",
    "mean_data = np.mean(Data)\n",
    "print(\"Mean:\", mean_data)\n",
    "median_data = np.median(Data)\n",
    "print(\"Median:\", median_data)\n",
    "mode_data = stats.mode(Data)\n",
    "print(\"Mode:\", mode_data)\n",
    "variance_data = np.var(Data)  \n",
    "print(\"Variance:\", variance_data)\n",
    "std_dev_data = np.std(Data) \n",
    "print(\"Standard Deviation:\", std_dev_data)"
   ]
  },
  {
   "cell_type": "code",
   "execution_count": 20,
   "id": "fc1abb41-c8c9-4d3b-8ed2-3924383bec6d",
   "metadata": {},
   "outputs": [
    {
     "name": "stdout",
     "output_type": "stream",
     "text": [
      "  Robot_ID   Task_Type Component_ID Sensor_Type            Sensor_Data  \\\n",
      "0  RBT_001  Inspection      CMP_460       LIDAR  1 (obstacle detected)   \n",
      "1  RBT_002    Assembly      CMP_252     Thermal             85.3 (Â°C)   \n",
      "2  RBT_003  Inspection      CMP_248     Thermal       92% (visual fit)   \n",
      "3  RBT_004     Welding      CMP_433      Camera      98% (defect-free)   \n",
      "4  RBT_005    Assembly      CMP_992      Camera       92% (visual fit)   \n",
      "\n",
      "   Processing_Time (s)  Accuracy (%) Environmental_Status  \\\n",
      "0                 67.0          90.4               Stable   \n",
      "1                 71.2          98.1               Stable   \n",
      "2                 49.2          95.3             Unstable   \n",
      "3                 74.5          90.2               Stable   \n",
      "4                 64.5          97.2             Unstable   \n",
      "\n",
      "   Energy_Consumption (kWh) Human_Intervention_Needed Obstacle_Detected  \\\n",
      "0                       2.2                        No               Yes   \n",
      "1                       2.7                       Yes                No   \n",
      "2                       2.4                        No                No   \n",
      "3                       2.4                       Yes                No   \n",
      "4                       1.8                        No                No   \n",
      "\n",
      "  Defect_Detected  Interaction_Count  Steps_Walked  Objects_Recognized  \\\n",
      "0             Yes                  2            10                   2   \n",
      "1              No                  6            23                   4   \n",
      "2              No                  2            25                   3   \n",
      "3             Yes                  7            34                   5   \n",
      "4              No                  8            35                   3   \n",
      "\n",
      "   Learning_Sessions  Energy_Consumption (kWh).1  \n",
      "0                 10                         100  \n",
      "1                 12                         123  \n",
      "2                 45                         321  \n",
      "3                 12                         456  \n",
      "4                 32                         654  \n",
      "\n",
      "Mean of the specific column 'Interaction_Count': 5.51\n"
     ]
    }
   ],
   "source": [
    "import pandas as pd\n",
    "df = pd.read_excel(\"robot_dataset(robot_dataset)_1.xlsx\")\n",
    "print(df.drop_duplicates().head(5))\n",
    "mean_specific = df['Interaction_Count'].mean() \n",
    "print(\"\\nMean of the specific column 'Interaction_Count':\", mean_specific)"
   ]
  },
  {
   "cell_type": "code",
   "execution_count": 21,
   "id": "51a80037-ce35-4e8b-b49e-e0b857bd5f16",
   "metadata": {},
   "outputs": [
    {
     "name": "stdout",
     "output_type": "stream",
     "text": [
      "\n",
      "Mean of the specific column 'Interaction_Count': 5.51\n",
      "The total of the column is: 14379\n",
      "Maximum value in 'Energy_Consumption (kWh)': 3.0\n",
      "Minimum value in 'Energy_Consumption (kWh): 1.0\n",
      "The correlation between Steps_Walked and Energy_Consumption (kWh) is: 0.0015478137393314488\n",
      "The variance of the 'Learning_Sessions' column is: 391.9422845691382\n"
     ]
    }
   ],
   "source": [
    "import pandas as pd\n",
    "df = pd.read_excel(\"robot_dataset(robot_dataset)_1.xlsx\")\n",
    "mean_specific = df['Interaction_Count'].mean() \n",
    "print(\"\\nMean of the specific column 'Interaction_Count':\", mean_specific)\n",
    "total = df['Steps_Walked'].sum() \n",
    "print(f\"The total of the column is: {total}\")\n",
    "max_value_column = df['Energy_Consumption (kWh)'].max() \n",
    "min_value_column = df['Energy_Consumption (kWh)'].min()\n",
    "print(f\"Maximum value in 'Energy_Consumption (kWh)': {max_value_column}\")\n",
    "print(f\"Minimum value in 'Energy_Consumption (kWh): {min_value_column}\") \n",
    "correlation = df['Steps_Walked'].corr(df['Energy_Consumption (kWh)']) \n",
    "print(f\"The correlation between Steps_Walked and Energy_Consumption (kWh) is: {correlation}\") \n",
    "variance = df['Learning_Sessions'].var() \n",
    "print(f\"The variance of the 'Learning_Sessions' column is: {variance}\")"
   ]
  },
  {
   "cell_type": "code",
   "execution_count": 19,
   "id": "4bf75eb3-d2a5-4c3e-8925-933304a2a813",
   "metadata": {},
   "outputs": [
    {
     "name": "stdout",
     "output_type": "stream",
     "text": [
      "My name is Alice, I am 25 years old, and my height is 5.6 feet.\n",
      "Am I a student? True\n"
     ]
    }
   ],
   "source": [
    "name = \"Alice\"        \n",
    "age = 25            \n",
    "height = 5.6    \n",
    "is_student = True    \n",
    "print(f\"My name is {name}, I am {age} years old, and my height is {height} feet.\")\n",
    "print(f\"Am I a student? {is_student}\")"
   ]
  },
  {
   "cell_type": "code",
   "execution_count": 1,
   "id": "66fe340a-1cb5-4d7f-bbdc-80b149987f70",
   "metadata": {},
   "outputs": [
    {
     "name": "stdin",
     "output_type": "stream",
     "text": [
      "Enter an integer:  5\n"
     ]
    },
    {
     "name": "stdout",
     "output_type": "stream",
     "text": [
      "The number is positive.\n"
     ]
    }
   ],
   "source": [
    "number = int(input(\"Enter an integer: \"))\n",
    "if number > 0:\n",
    "    print(\"The number is positive.\")\n",
    "elif number < 0:\n",
    "    print(\"The number is negative.\")\n",
    "else:\n",
    "    print(\"The number is zero.\")\n"
   ]
  },
  {
   "cell_type": "code",
   "execution_count": 2,
   "id": "2ef9c2a0-64a0-49d1-b415-5420838ebc93",
   "metadata": {},
   "outputs": [
    {
     "name": "stdin",
     "output_type": "stream",
     "text": [
      "Enter a number:  8\n"
     ]
    },
    {
     "name": "stdout",
     "output_type": "stream",
     "text": [
      "8 x 1 = 8\n",
      "8 x 2 = 16\n",
      "8 x 3 = 24\n",
      "8 x 4 = 32\n",
      "8 x 5 = 40\n",
      "8 x 6 = 48\n",
      "8 x 7 = 56\n",
      "8 x 8 = 64\n",
      "8 x 9 = 72\n",
      "8 x 10 = 80\n"
     ]
    }
   ],
   "source": [
    "number = int(input(\"Enter a number: \"))\n",
    "for i in range(1, 11):\n",
    "    print(f\"{number} x {i} = {number * i}\")\n"
   ]
  },
  {
   "cell_type": "code",
   "execution_count": 3,
   "id": "03b56616-344b-4245-8cea-5dbaa18280d8",
   "metadata": {},
   "outputs": [
    {
     "name": "stdout",
     "output_type": "stream",
     "text": [
      "Original list: ['Apple', 'Banana', 'Orange', 'Mango', 'Grapes']\n",
      "\n",
      "After appending a new fruit: ['Apple', 'Banana', 'Orange', 'Mango', 'Grapes', 'Pineapple']\n",
      "\n",
      "After removing 'Banana': ['Apple', 'Orange', 'Mango', 'Grapes', 'Pineapple']\n",
      "\n",
      "After inserting 'Strawberry' at the second position: ['Apple', 'Strawberry', 'Orange', 'Mango', 'Grapes', 'Pineapple']\n",
      "\n",
      "After sorting the list alphabetically: ['Apple', 'Grapes', 'Mango', 'Orange', 'Pineapple', 'Strawberry']\n",
      "\n",
      "After reversing the list: ['Strawberry', 'Pineapple', 'Orange', 'Mango', 'Grapes', 'Apple']\n",
      "\n",
      "Length of the list: 6\n"
     ]
    }
   ],
   "source": [
    "fruits = [\"Apple\", \"Banana\", \"Orange\", \"Mango\", \"Grapes\"]\n",
    "print(\"Original list:\", fruits)\n",
    "fruits.append(\"Pineapple\")\n",
    "print(\"\\nAfter appending a new fruit:\", fruits)\n",
    "fruits.remove(\"Banana\")\n",
    "print(\"\\nAfter removing 'Banana':\", fruits)\n",
    "fruits.insert(1, \"Strawberry\")\n",
    "print(\"\\nAfter inserting 'Strawberry' at the second position:\", fruits)\n",
    "fruits.sort()\n",
    "print(\"\\nAfter sorting the list alphabetically:\", fruits)\n",
    "fruits.reverse()\n",
    "print(\"\\nAfter reversing the list:\", fruits)\n",
    "length = len(fruits)\n",
    "print(\"\\nLength of the list:\", length)\n"
   ]
  },
  {
   "cell_type": "code",
   "execution_count": 5,
   "id": "56ad06a9-f312-4c77-978c-952f8cd18096",
   "metadata": {},
   "outputs": [
    {
     "name": "stdout",
     "output_type": "stream",
     "text": [
      "Original tuple: (5, 10, 15, 20, 25)\n",
      "Second number in the tuple: 10\n",
      "Length of the tuple: 5\n",
      "Is 15 in the tuple? True\n",
      "Tuple after adding 30: (5, 10, 15, 20, 25, 30)\n",
      "Count of 10 in the tuple: 1\n",
      "Index of number 20 in the tuple: 3\n"
     ]
    }
   ],
   "source": [
    "numbers = (5, 10, 15, 20, 25)\n",
    "print(\"Original tuple:\", numbers)\n",
    "second_number = numbers[1]\n",
    "print(\"Second number in the tuple:\", second_number)\n",
    "length = len(numbers)\n",
    "print(\"Length of the tuple:\", length)\n",
    "check_number = 15\n",
    "is_present = check_number in numbers\n",
    "print(f\"Is {check_number} in the tuple?\", is_present)\n",
    "numbers_list = list(numbers)\n",
    "numbers_list.append(30)\n",
    "numbers = tuple(numbers_list)  \n",
    "print(\"Tuple after adding 30:\", numbers)\n",
    "count_10 = numbers.count(10)\n",
    "print(\"Count of 10 in the tuple:\", count_10)\n",
    "index_20 = numbers.index(20)\n",
    "print(\"Index of number 20 in the tuple:\", index_20)\n"
   ]
  },
  {
   "cell_type": "code",
   "execution_count": 7,
   "id": "a23621f7-4b89-4be0-9e23-27e7afd1f181",
   "metadata": {},
   "outputs": [
    {
     "name": "stdout",
     "output_type": "stream",
     "text": [
      "Original dictionary: {'Alice': 85, 'Bob': 92, 'Charlie': 78}\n",
      "After adding David: {'Alice': 85, 'Bob': 92, 'Charlie': 78, 'David': 88}\n",
      "After updating Bob's marks: {'Alice': 85, 'Bob': 95, 'Charlie': 78, 'David': 88}\n",
      "After removing Charlie: {'Alice': 85, 'Bob': 95, 'David': 88}\n",
      "Marks of Alice: 85\n",
      "Is Bob in the dictionary? True\n",
      "Total number of students: 3\n",
      "Student marks:\n",
      "Alice: 85\n",
      "Bob: 95\n",
      "David: 88\n"
     ]
    }
   ],
   "source": [
    "students_marks = {\"Alice\": 85, \"Bob\": 92, \"Charlie\": 78}\n",
    "print(\"Original dictionary:\", students_marks)\n",
    "students_marks[\"David\"] = 88\n",
    "print(\"After adding David:\", students_marks)\n",
    "students_marks[\"Bob\"] = 95\n",
    "print(\"After updating Bob's marks:\", students_marks)\n",
    "del students_marks[\"Charlie\"]\n",
    "print(\"After removing Charlie:\", students_marks)\n",
    "alice_marks = students_marks.get(\"Alice\")\n",
    "print(\"Marks of Alice:\", alice_marks)\n",
    "is_bob_in_dict = \"Bob\" in students_marks\n",
    "print(\"Is Bob in the dictionary?\", is_bob_in_dict)\n",
    "total_students = len(students_marks)\n",
    "print(\"Total number of students:\", total_students)\n",
    "print(\"Student marks:\")\n",
    "for student, marks in students_marks.items():\n",
    "    print(f\"{student}: {marks}\")\n"
   ]
  },
  {
   "cell_type": "code",
   "execution_count": 8,
   "id": "ac84b38b-3308-43e1-baf6-11c1029434c9",
   "metadata": {},
   "outputs": [
    {
     "name": "stdout",
     "output_type": "stream",
     "text": [
      "Set 1: {1, 2, 3, 4, 5}\n",
      "Set 2: {4, 5, 6, 7, 8}\n",
      "Union of Set 1 and Set 2: {1, 2, 3, 4, 5, 6, 7, 8}\n",
      "Intersection of Set 1 and Set 2: {4, 5}\n",
      "Difference of Set 1 and Set 2: {1, 2, 3}\n",
      "Symmetric Difference of Set 1 and Set 2: {1, 2, 3, 6, 7, 8}\n"
     ]
    }
   ],
   "source": [
    "set1 = {1, 2, 3, 4, 5}\n",
    "set2 = {4, 5, 6, 7, 8}\n",
    "print(\"Set 1:\", set1)\n",
    "print(\"Set 2:\", set2)\n",
    "union_set = set1 | set2\n",
    "print(\"Union of Set 1 and Set 2:\", union_set)\n",
    "intersection_set = set1 & set2\n",
    "print(\"Intersection of Set 1 and Set 2:\", intersection_set)\n",
    "difference_set = set1 - set2\n",
    "print(\"Difference of Set 1 and Set 2:\", difference_set)\n",
    "symmetric_difference_set = set1 ^ set2\n",
    "print(\"Symmetric Difference of Set 1 and Set 2:\", symmetric_difference_set)\n"
   ]
  },
  {
   "cell_type": "code",
   "execution_count": 9,
   "id": "7a919adb-6350-4d22-9aff-e1a7df1d924b",
   "metadata": {},
   "outputs": [
    {
     "name": "stdout",
     "output_type": "stream",
     "text": [
      "The largest number in the list is: 89\n"
     ]
    }
   ],
   "source": [
    "def find_largest(numbers):\n",
    "    if not numbers:\n",
    "        return None  \n",
    "    largest = numbers[0]\n",
    "    for number in numbers:\n",
    "        if number > largest:\n",
    "            largest = number\n",
    "    return largest\n",
    "sample_list = [12, 45, 67, 23, 89, 54]\n",
    "largest_number = find_largest(sample_list)\n",
    "print(\"The largest number in the list is:\", largest_number)\n"
   ]
  },
  {
   "cell_type": "code",
   "execution_count": 10,
   "id": "fa794dc4-3639-4d68-b057-815f5990bcca",
   "metadata": {},
   "outputs": [
    {
     "name": "stdout",
     "output_type": "stream",
     "text": [
      "[4, 16, 36, 64, 100, 144, 196, 256, 324, 400]\n"
     ]
    }
   ],
   "source": [
    "squares_of_even_numbers = [x**2 for x in range(1, 21) if x % 2 == 0]\n",
    "print(squares_of_even_numbers)\n"
   ]
  },
  {
   "cell_type": "code",
   "execution_count": 11,
   "id": "d324c00b-65b4-41d0-b3bb-8cf6075a0738",
   "metadata": {},
   "outputs": [
    {
     "name": "stdin",
     "output_type": "stream",
     "text": [
      "Enter the first number:  6\n",
      "Enter the second number:  4\n"
     ]
    },
    {
     "name": "stdout",
     "output_type": "stream",
     "text": [
      "The product of 6.0 and 4.0 is 24.0\n"
     ]
    }
   ],
   "source": [
    "num1 = float(input(\"Enter the first number: \"))\n",
    "num2 = float(input(\"Enter the second number: \"))\n",
    "product = (lambda x, y: x * y)(num1, num2)\n",
    "print(f\"The product of {num1} and {num2} is {product}\")\n"
   ]
  },
  {
   "cell_type": "code",
   "execution_count": 14,
   "id": "2631b82b-706d-4ceb-8491-ccde1746e610",
   "metadata": {},
   "outputs": [
    {
     "name": "stdout",
     "output_type": "stream",
     "text": [
      "One-dimensional array:\n",
      "[1 2 3 4 5]\n",
      "Shape: (5,)\n",
      "Dimensions: 1\n",
      "Two-dimensional array:\n",
      "[[1 2 3]\n",
      " [4 5 6]]\n",
      "Shape: (2, 3)\n",
      "Dimensions: 2\n",
      "Three-dimensional array:\n",
      "[[[1 2]\n",
      "  [3 4]]\n",
      "\n",
      " [[5 6]\n",
      "  [7 8]]]\n",
      "Shape: (2, 2, 2)\n",
      "Dimensions: 3\n"
     ]
    }
   ],
   "source": [
    "import numpy as np\n",
    "one_d = np.array([1, 2, 3, 4, 5])\n",
    "print(\"One-dimensional array:\")\n",
    "print(one_d)\n",
    "print(\"Shape:\", one_d.shape)\n",
    "print(\"Dimensions:\", one_d.ndim)\n",
    "two_d = np.array([[1, 2, 3],[4, 5, 6]])\n",
    "print(\"Two-dimensional array:\")\n",
    "print(two_d)\n",
    "print(\"Shape:\", two_d.shape)\n",
    "print(\"Dimensions:\", two_d.ndim)\n",
    "three_d = np.array([[[1, 2],[3, 4]],[[5, 6],[7, 8]]])\n",
    "print(\"Three-dimensional array:\")\n",
    "print(three_d)\n",
    "print(\"Shape:\", three_d.shape)\n",
    "print(\"Dimensions:\", three_d.ndim)"
   ]
  },
  {
   "cell_type": "code",
   "execution_count": 16,
   "id": "ef2dfc02-5a5f-4bce-a643-f4dff2de7c2e",
   "metadata": {},
   "outputs": [
    {
     "name": "stdout",
     "output_type": "stream",
     "text": [
      "Generated 5x5 Array:\n",
      "[[54 40 94 21 40]\n",
      " [31 63 16 70 87]\n",
      " [15 83 21 77 84]\n",
      " [67 22 70  2 65]\n",
      " [66  5 89 43 85]]\n",
      "Element at row 2, column 3: 16\n",
      "First row: [54 40 94 21 40]\n",
      "Last column: [40 87 84 65 85]\n",
      "Sub-array (first 3 rows, first 2 columns):\n",
      " [[54 40]\n",
      " [31 63]\n",
      " [15 83]]\n",
      "All even elements: [54 40 94 40 16 70 84 22 70  2 66]\n"
     ]
    }
   ],
   "source": [
    "import numpy as np\n",
    "array = np.random.randint(1, 101, (5, 5))\n",
    "print(\"Generated 5x5 Array:\")\n",
    "print(array)\n",
    "print(\"Element at row 2, column 3:\", array[1, 2])\n",
    "print(\"First row:\", array[0])\n",
    "print(\"Last column:\", array[:, -1])\n",
    "print(\"Sub-array (first 3 rows, first 2 columns):\\n\", array[:3, :2])\n",
    "print(\"All even elements:\", array[array % 2 == 0])"
   ]
  },
  {
   "cell_type": "code",
   "execution_count": 20,
   "id": "5721862d-fb26-4eea-a190-dfbd38932273",
   "metadata": {},
   "outputs": [
    {
     "name": "stdout",
     "output_type": "stream",
     "text": [
      "Generated 4x4 Array:\n",
      "[[9 8 9 4]\n",
      " [3 9 8 3]\n",
      " [3 2 4 2]\n",
      " [5 9 1 7]]\n",
      "Top-left 2x2 sub-array: [[9 8]\n",
      " [3 9]]\n",
      "Bottom-right 2x2 sub-array: [[4 2]\n",
      " [1 7]]\n",
      "Second row: [3 9 8 3]\n",
      "Third column: [9 8 4 1]\n"
     ]
    }
   ],
   "source": [
    "import numpy as np\n",
    "array_4x4 = np.random.randint(0, 10, (4, 4))  \n",
    "print(\"Generated 4x4 Array:\")\n",
    "print(array_4x4)\n",
    "print(\"Top-left 2x2 sub-array:\", array_4x4[:2, :2])\n",
    "print(\"Bottom-right 2x2 sub-array:\", array_4x4[2:, 2:])\n",
    "print(\"Second row:\", array_4x4[1, :])\n",
    "print(\"Third column:\", array_4x4[:, 2])"
   ]
  },
  {
   "cell_type": "code",
   "execution_count": 23,
   "id": "9b571bfb-2f14-462f-9917-350d601308cc",
   "metadata": {},
   "outputs": [
    {
     "name": "stdout",
     "output_type": "stream",
     "text": [
      "Generated 2D Array:\n",
      "[[ 1  2]\n",
      " [ 3  4]\n",
      " [ 5  6]\n",
      " [ 7  8]\n",
      " [ 9 10]\n",
      " [11 12]]\n",
      "Reshaped 3D Array:\n",
      "[[[ 1  2]\n",
      "  [ 3  4]\n",
      "  [ 5  6]]\n",
      "\n",
      " [[ 7  8]\n",
      "  [ 9 10]\n",
      "  [11 12]]]\n",
      "Flattened Array: [ 1  2  3  4  5  6  7  8  9 10 11 12]\n"
     ]
    }
   ],
   "source": [
    "array_2d = np.arange(1,13).reshape(6,2)\n",
    "array_3d = array_2d.reshape(2,3,2)\n",
    "print(\"Generated 2D Array:\")\n",
    "print(array_2d)\n",
    "print(\"Reshaped 3D Array:\")\n",
    "print(array_3d)\n",
    "flattened_array = array_3d.flatten()\n",
    "print(\"Flattened Array:\", flattened_array)"
   ]
  },
  {
   "cell_type": "code",
   "execution_count": 24,
   "id": "65358d71-5ed0-4b8e-9eec-21c9f779120c",
   "metadata": {},
   "outputs": [
    {
     "name": "stdout",
     "output_type": "stream",
     "text": [
      "Generated 3x3 Array:\n",
      "[[1 2 3]\n",
      " [4 5 6]\n",
      " [7 8 9]]\n",
      "One-dimensional Array:\n",
      "[10 20 30]\n",
      "Result after Broadcasting:\n",
      "[[11 22 33]\n",
      " [14 25 36]\n",
      " [17 28 39]]\n"
     ]
    }
   ],
   "source": [
    "array_3x3 = np.arange(1,10).reshape(3,3)\n",
    "array_1x3 = np.array([10,20,30])\n",
    "result = array_3x3 + array_1x3\n",
    "print(\"Generated 3x3 Array:\")\n",
    "print(array_3x3)\n",
    "print(\"One-dimensional Array:\")\n",
    "print(array_1x3)\n",
    "print(\"Result after Broadcasting:\")\n",
    "print(result)\n"
   ]
  },
  {
   "cell_type": "code",
   "execution_count": 26,
   "id": "0519cad7-2fdf-45bc-ada9-5e7680ef7161",
   "metadata": {},
   "outputs": [
    {
     "name": "stdout",
     "output_type": "stream",
     "text": [
      "Array A: [[1 2 3]\n",
      " [4 5 6]]\n",
      "Array B: [[ 7  8  9]\n",
      " [10 11 12]]\n",
      "Element-wise Addition: [[ 8 10 12]\n",
      " [14 16 18]]\n",
      "Element-wise Subtraction: [[-6 -6 -6]\n",
      " [-6 -6 -6]]\n",
      "Element-wise Multiplication: [[ 7 16 27]\n",
      " [40 55 72]]\n",
      "Element-wise Division: [[0.14285714 0.25       0.33333333]\n",
      " [0.4        0.45454545 0.5       ]]\n"
     ]
    }
   ],
   "source": [
    "import numpy as np\n",
    "A = np.array([[1,2,3],[4,5,6]])\n",
    "B = np.array([[7,8,9],[10,11,12]])\n",
    "addition = A + B\n",
    "subtraction = A - B\n",
    "multiplication = A * B\n",
    "division = A / B\n",
    "print(\"Array A:\", A)\n",
    "print(\"Array B:\", B)\n",
    "print(\"Element-wise Addition:\",addition)\n",
    "print(\"Element-wise Subtraction:\",subtraction)\n",
    "print(\"Element-wise Multiplication:\",multiplication)\n",
    "print(\"Element-wise Division:\",division)\n"
   ]
  },
  {
   "cell_type": "code",
   "execution_count": 28,
   "id": "1d1ea67c-5431-4275-8972-ec0727104e51",
   "metadata": {},
   "outputs": [
    {
     "name": "stdout",
     "output_type": "stream",
     "text": [
      "      Name  Math  Science  English  Total Grade\n",
      "0    Alice    85       88       82    255     A\n",
      "1      Bob    78       74       80    232     B\n",
      "2  Charlie    92       90       85    267     A\n"
     ]
    }
   ],
   "source": [
    "import pandas as pd\n",
    "data = {\n",
    "    \"Name\": [\"Alice\", \"Bob\", \"Charlie\"],\n",
    "    \"Math\": [85, 78, 92],\n",
    "    \"Science\": [88, 74, 90],\n",
    "    \"English\": [82, 80, 85]\n",
    "}\n",
    "df = pd.DataFrame(data)\n",
    "df[\"Total\"] = df[\"Math\"] + df[\"Science\"] + df[\"English\"]\n",
    "def assign_grade(total):\n",
    "    if total >= 250:\n",
    "        return \"A\"\n",
    "    elif total >= 220:\n",
    "        return \"B\"\n",
    "    elif total >= 190:\n",
    "        return \"C\"\n",
    "    else:\n",
    "        return \"D\"\n",
    "df[\"Grade\"] = df[\"Total\"].apply(assign_grade)\n",
    "print(df)\n"
   ]
  },
  {
   "cell_type": "code",
   "execution_count": null,
   "id": "be536c17-273b-4024-bb98-77dc1cc76403",
   "metadata": {},
   "outputs": [],
   "source": []
  }
 ],
 "metadata": {
  "kernelspec": {
   "display_name": "Python 3 (ipykernel)",
   "language": "python",
   "name": "python3"
  },
  "language_info": {
   "codemirror_mode": {
    "name": "ipython",
    "version": 3
   },
   "file_extension": ".py",
   "mimetype": "text/x-python",
   "name": "python",
   "nbconvert_exporter": "python",
   "pygments_lexer": "ipython3",
   "version": "3.13.2"
  }
 },
 "nbformat": 4,
 "nbformat_minor": 5
}
